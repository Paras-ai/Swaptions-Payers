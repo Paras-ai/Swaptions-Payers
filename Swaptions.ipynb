{
  "nbformat": 4,
  "nbformat_minor": 0,
  "metadata": {
    "colab": {
      "provenance": [],
      "authorship_tag": "ABX9TyPJob80n8eOsEGgbBXaRZ+O",
      "include_colab_link": true
    },
    "kernelspec": {
      "name": "python3",
      "display_name": "Python 3"
    },
    "language_info": {
      "name": "python"
    }
  },
  "cells": [
    {
      "cell_type": "markdown",
      "metadata": {
        "id": "view-in-github",
        "colab_type": "text"
      },
      "source": [
        "<a href=\"https://colab.research.google.com/github/Paras-ai/Swaptions-Payers/blob/main/Swaptions.ipynb\" target=\"_parent\"><img src=\"https://colab.research.google.com/assets/colab-badge.svg\" alt=\"Open In Colab\"/></a>"
      ]
    },
    {
      "cell_type": "code",
      "execution_count": 2,
      "metadata": {
        "colab": {
          "base_uri": "https://localhost:8080/"
        },
        "id": "FqzoWfyQLKi-",
        "outputId": "dcf486f6-01fe-404c-b473-e3ab0a404bca"
      },
      "outputs": [
        {
          "output_type": "stream",
          "name": "stdout",
          "text": [
            "Collecting QuantLib-Python\n",
            "  Downloading QuantLib_Python-1.18-py2.py3-none-any.whl.metadata (1.0 kB)\n",
            "Collecting QuantLib (from QuantLib-Python)\n",
            "  Downloading quantlib-1.38-cp38-abi3-manylinux_2_17_x86_64.manylinux2014_x86_64.whl.metadata (1.1 kB)\n",
            "Downloading QuantLib_Python-1.18-py2.py3-none-any.whl (1.4 kB)\n",
            "Downloading quantlib-1.38-cp38-abi3-manylinux_2_17_x86_64.manylinux2014_x86_64.whl (20.0 MB)\n",
            "\u001b[2K   \u001b[90m━━━━━━━━━━━━━━━━━━━━━━━━━━━━━━━━━━━━━━━━\u001b[0m \u001b[32m20.0/20.0 MB\u001b[0m \u001b[31m86.7 MB/s\u001b[0m eta \u001b[36m0:00:00\u001b[0m\n",
            "\u001b[?25hInstalling collected packages: QuantLib, QuantLib-Python\n",
            "Successfully installed QuantLib-1.38 QuantLib-Python-1.18\n"
          ]
        }
      ],
      "source": [
        "pip install QuantLib-Python"
      ]
    },
    {
      "cell_type": "code",
      "source": [
        "import QuantLib as ql\n",
        "\n",
        "# Market Setup\n",
        "calendar = ql.TARGET()   #Defines the calendar used for date calculations (TARGET = Eurozone calendar).Important for adjusting dates like payment and settlement.\n",
        "settlement_date = ql.Date(10, 6, 2025)    #Sets the \"today\" or evaluation date to June 10, 2025. All pricing will be done as of this date.\n",
        "ql.Settings.instance().evaluationDate = settlement_date   #Updates the global QuantLib setting to use the above settlement_date as the evaluation date.\n",
        "\n",
        "\n",
        "\n",
        "# Flat Yield Curve\n",
        "flat_rate = ql.FlatForward(settlement_date, 0.02, ql.Actual365Fixed())   #Creates a flat forward rate curve with an annualized interest rate of 2% starting from the settlement date. Actual365Fixed() specifies the day count convention.\n",
        "yield_curve = ql.YieldTermStructureHandle(flat_rate) #Wraps the flat curve in a Handle, so it can be passed into pricing engines and objects like Euribor6M.\n",
        "\n",
        "# Swaption Details\n",
        "exercise_date = settlement_date + ql.Period(\"1Y\")  # Swaption expires in 1Y. Swaption can be exercised 1 year from today.\n",
        "exercise = ql.EuropeanExercise(exercise_date) # Creates a European-style exercise object (can only be exercised on the exact exercise_date).\n",
        "maturity = ql.Period(\"5Y\")  # Swap starts in 1Y and matures 5Y after that. The swap will last for 5 years if the swaption is exercised.\n",
        "\n",
        "# Swap Schedule\n",
        "start = exercise_date #The swap starts at exercise_date and ends 5 years later, adjusted for holidays using the TARGET calendar.\n",
        "end = calendar.advance(start, maturity)\n",
        "fixed_schedule = ql.Schedule(start, end, ql.Period(\"1Y\"), calendar,\n",
        "                              ql.ModifiedFollowing, ql.ModifiedFollowing,\n",
        "                              ql.DateGeneration.Forward, False)\n",
        "#Sets up the fixed leg payment schedule:\n",
        "#Every 1 year. Adjusted using \"Modified Following\" rule. Dates generated in forward direction.\n",
        "\n",
        "float_schedule = fixed_schedule #(Uses the same schedule for the floating leg (simplified, though in practice it would be 6M intervals))\n",
        "\n",
        "# Swap Legs\n",
        "notional = 1_000_000 # The notional amount of the swap.\n",
        "fixed_rate = 0.025 # The strike rate (fixed rate) for the swaption. This is what the option allows you to pay (or receive).\n",
        "index = ql.Euribor6M(yield_curve) # Defines the floating rate index for the swap (6-month Euribor). Linked to the flat yield curve.\n",
        "\n",
        "vanilla_swap = ql.VanillaSwap(ql.VanillaSwap.Payer,\n",
        "                              notional,\n",
        "                              fixed_schedule,\n",
        "                              fixed_rate,\n",
        "                              ql.Actual365Fixed(),\n",
        "                              float_schedule,\n",
        "                              index,\n",
        "                              0.0,\n",
        "                              ql.Actual365Fixed())\n",
        "\n",
        "#Creates a payer swap: you pay fixed, receive floating. Uses the fixed and floating schedules. 0.0 is the spread added to the floating leg (set to zero here).\n",
        "\n",
        "# Black Volatility and Engine\n",
        "volatility = 0.20  # 20% # Assumed constant Black volatility (for the forward swap rate).\n",
        "black_vol = ql.ConstantSwaptionVolatility(settlement_date, calendar,\n",
        "                                          ql.ModifiedFollowing,\n",
        "                                          volatility,\n",
        "                                          ql.Actual365Fixed())\n",
        "\n",
        "#Creates a flat volatility surface for swaptions. Used to model the uncertainty (vol) in forward rates.\n",
        "\n",
        "# ✅ Fix: wrap black_vol in a handle\n",
        "engine = ql.BlackSwaptionEngine(yield_curve, ql.SwaptionVolatilityStructureHandle(black_vol))\n",
        "#Builds the pricing engine using the Black model. Requires: yield_curve: for discounting. black_vol: to model option volatility.\n",
        "\n",
        "# Create Swaption and Price\n",
        "swaption = ql.Swaption(vanilla_swap, exercise) # Constructs the swaption object using the defined swap and European exercise.\n",
        "swaption.setPricingEngine(engine) #Attaches the Black model pricing engine to the swaption.\n",
        "# Output NPV\n",
        "print(f\"Swaption Price (Black model): {swaption.NPV():,.2f}\")\n",
        "#Calculates and prints the net present value (NPV) of the swaption — the fair price under current market assumptions.\n"
      ],
      "metadata": {
        "colab": {
          "base_uri": "https://localhost:8080/"
        },
        "id": "qdIm089-Mj78",
        "outputId": "c42df8cb-e74f-4bf3-c314-4fbda8251802"
      },
      "execution_count": 4,
      "outputs": [
        {
          "output_type": "stream",
          "name": "stdout",
          "text": [
            "Swaption Price (Black model): 1,316.61\n"
          ]
        }
      ]
    },
    {
      "cell_type": "code",
      "source": [
        "Receiver Swaptions"
      ],
      "metadata": {
        "id": "htxZaQ1uAKD2"
      },
      "execution_count": null,
      "outputs": []
    },
    {
      "cell_type": "code",
      "source": [
        "import QuantLib as ql\n",
        "\n",
        "# Market Setup\n",
        "calendar = ql.TARGET()\n",
        "settlement_date = ql.Date(10, 6, 2025)\n",
        "ql.Settings.instance().evaluationDate = settlement_date\n",
        "\n",
        "# Yield Curve (Flat)\n",
        "flat_rate = ql.FlatForward(settlement_date, 0.02, ql.Actual365Fixed())\n",
        "yield_curve = ql.YieldTermStructureHandle(flat_rate)\n",
        "\n",
        "# Swaption Details\n",
        "exercise_date = settlement_date + ql.Period(\"1Y\")\n",
        "exercise = ql.EuropeanExercise(exercise_date)\n",
        "maturity = ql.Period(\"5Y\")\n",
        "\n",
        "# Swap Schedule\n",
        "start = exercise_date\n",
        "end = calendar.advance(start, maturity)\n",
        "fixed_schedule = ql.Schedule(start, end, ql.Period(\"1Y\"), calendar,\n",
        "                             ql.ModifiedFollowing, ql.ModifiedFollowing,\n",
        "                             ql.DateGeneration.Forward, False)\n",
        "\n",
        "float_schedule = fixed_schedule\n",
        "\n",
        "# Swap Legs - Receiver Swaption\n",
        "notional = 1_000_000\n",
        "fixed_rate = 0.025\n",
        "index = ql.Euribor6M(yield_curve)\n",
        "\n",
        "receiver_swap = ql.VanillaSwap(ql.VanillaSwap.Receiver,  # <- Only difference\n",
        "                               notional,\n",
        "                               fixed_schedule,\n",
        "                               fixed_rate,\n",
        "                               ql.Actual365Fixed(),\n",
        "                               float_schedule,\n",
        "                               index,\n",
        "                               0.0,\n",
        "                               ql.Actual365Fixed())\n",
        "\n",
        "# Volatility and Black Engine\n",
        "volatility = 0.20\n",
        "black_vol = ql.ConstantSwaptionVolatility(settlement_date, calendar,\n",
        "                                          ql.ModifiedFollowing,\n",
        "                                          volatility,\n",
        "                                          ql.Actual365Fixed())\n",
        "\n",
        "engine = ql.BlackSwaptionEngine(yield_curve, ql.SwaptionVolatilityStructureHandle(black_vol))\n",
        "\n",
        "# Swaption Creation and Pricing\n",
        "receiver_swaption = ql.Swaption(receiver_swap, exercise)\n",
        "receiver_swaption.setPricingEngine(engine)\n",
        "\n",
        "print(f\"Receiver Swaption Price (Black model): {receiver_swaption.NPV():,.2f}\")\n"
      ],
      "metadata": {
        "colab": {
          "base_uri": "https://localhost:8080/"
        },
        "id": "mJ9LU-3KANOB",
        "outputId": "689e0ae2-4800-4c86-c2a1-87ae33f3e364"
      },
      "execution_count": 5,
      "outputs": [
        {
          "output_type": "stream",
          "name": "stdout",
          "text": [
            "Receiver Swaption Price (Black model): 24,763.37\n"
          ]
        }
      ]
    },
    {
      "cell_type": "code",
      "source": [
        "import QuantLib as ql\n",
        "\n",
        "# Setup\n",
        "calendar = ql.TARGET()\n",
        "settlement_date = ql.Date(10, 6, 2025)\n",
        "ql.Settings.instance().evaluationDate = settlement_date\n",
        "\n",
        "# Flat Yield Curve (2%)\n",
        "flat_rate = ql.FlatForward(settlement_date, 0.02, ql.Actual365Fixed())\n",
        "yield_curve = ql.YieldTermStructureHandle(flat_rate)\n",
        "\n",
        "# Swaption parameters\n",
        "exercise_date = settlement_date + ql.Period(\"1Y\")  # European expiry in 1Y\n",
        "exercise = ql.EuropeanExercise(exercise_date)\n",
        "maturity = ql.Period(\"5Y\")\n",
        "notional = 1_000_000\n",
        "\n",
        "# Schedule\n",
        "start = exercise_date\n",
        "end = calendar.advance(start, maturity)\n",
        "schedule = ql.Schedule(start, end, ql.Period(\"1Y\"), calendar,\n",
        "                       ql.ModifiedFollowing, ql.ModifiedFollowing,\n",
        "                       ql.DateGeneration.Forward, False)\n",
        "\n",
        "index = ql.Euribor6M(yield_curve)\n",
        "\n",
        "# Receiver Swaption (strike = 2.0%)\n",
        "receiver_swap = ql.VanillaSwap(ql.VanillaSwap.Receiver,\n",
        "                               notional, schedule, 0.02, ql.Actual365Fixed(),\n",
        "                               schedule, index, 0.0, ql.Actual365Fixed())\n",
        "receiver_swaption = ql.Swaption(receiver_swap, exercise)\n",
        "\n",
        "# Payer Swaption (strike = 3.0%)\n",
        "payer_swap = ql.VanillaSwap(ql.VanillaSwap.Payer,\n",
        "                            notional, schedule, 0.02, ql.Actual365Fixed(),\n",
        "                            schedule, index, 0.0, ql.Actual365Fixed())\n",
        "payer_swaption = ql.Swaption(payer_swap, exercise)\n",
        "\n",
        "# Volatility\n",
        "vol = 0.20\n",
        "black_vol = ql.ConstantSwaptionVolatility(settlement_date, calendar,\n",
        "                                          ql.ModifiedFollowing,\n",
        "                                          vol,\n",
        "                                          ql.Actual365Fixed())\n",
        "vol_handle = ql.SwaptionVolatilityStructureHandle(black_vol)\n",
        "\n",
        "# Engine\n",
        "engine = ql.BlackSwaptionEngine(yield_curve, vol_handle)\n",
        "\n",
        "receiver_swaption.setPricingEngine(engine)\n",
        "payer_swaption.setPricingEngine(engine)\n",
        "\n",
        "# Results\n",
        "receiver_price = receiver_swaption.NPV()\n",
        "payer_price = payer_swaption.NPV()\n",
        "collar_price = receiver_price - payer_price\n",
        "\n",
        "print(f\"Receiver Swaption (strike 2.0%): {receiver_price:,.2f}\")\n",
        "print(f\"Payer Swaption (strike 3.0%): {payer_price:,.2f}\")\n",
        "print(f\"Swaption Collar Value: {collar_price:,.2f}\")\n"
      ],
      "metadata": {
        "colab": {
          "base_uri": "https://localhost:8080/"
        },
        "id": "RXMxL0wSA8BE",
        "outputId": "ceba5fb7-a82a-49ad-bf28-d6d77e7c0383"
      },
      "execution_count": 9,
      "outputs": [
        {
          "output_type": "stream",
          "name": "stdout",
          "text": [
            "Receiver Swaption (strike 2.0%): 7,521.19\n",
            "Payer Swaption (strike 3.0%): 7,173.46\n",
            "Swaption Collar Value: 347.73\n"
          ]
        }
      ]
    },
    {
      "cell_type": "code",
      "source": [
        "#SOFR"
      ],
      "metadata": {
        "id": "oVVwsY6_hUyN"
      },
      "execution_count": null,
      "outputs": []
    },
    {
      "cell_type": "code",
      "source": [
        "import QuantLib as ql\n",
        "\n",
        "# Market Setup\n",
        "calendar = ql.UnitedStates(ql.UnitedStates.NYSE)\n",
        "settlement_date = ql.Date(10, 6, 2025)\n",
        "ql.Settings.instance().evaluationDate = settlement_date\n",
        "\n",
        "# Yield Curve (Flat)\n",
        "flat_rate = ql.FlatForward(settlement_date, 0.025, ql.Actual360())\n",
        "yield_curve = ql.YieldTermStructureHandle(flat_rate)\n",
        "\n",
        "# SOFR Index\n",
        "sofr_index = ql.OvernightIndex(\"SOFR\", 0, ql.USDCurrency(), calendar,\n",
        "                               ql.Actual360(), yield_curve)\n",
        "\n",
        "# Swaption parameters\n",
        "exercise_date = settlement_date + ql.Period(\"1Y\")\n",
        "exercise = ql.EuropeanExercise(exercise_date)\n",
        "maturity = ql.Period(\"5Y\")\n",
        "notional = 1_000_000\n",
        "\n",
        "# Schedule\n",
        "start = exercise_date\n",
        "end = calendar.advance(start, maturity)\n",
        "schedule = ql.Schedule(start, end, ql.Period(\"6M\"), calendar,\n",
        "                       ql.ModifiedFollowing, ql.ModifiedFollowing,\n",
        "                       ql.DateGeneration.Forward, False)\n",
        "\n",
        "# Receiver Swaption (strike = 2.0%)\n",
        "receiver_swap = ql.VanillaSwap(ql.VanillaSwap.Receiver,\n",
        "                               notional, schedule, 0.02, ql.Thirty360(ql.Thirty360.BondBasis),\n",
        "                               schedule, sofr_index, 0.0, ql.Actual360())\n",
        "receiver_swaption = ql.Swaption(receiver_swap, exercise)\n",
        "\n",
        "# Payer Swaption (strike = 3.0%)\n",
        "payer_swap = ql.VanillaSwap(ql.VanillaSwap.Payer,\n",
        "                            notional, schedule, 0.03, ql.Thirty360(ql.Thirty360.BondBasis),\n",
        "                            schedule, sofr_index, 0.0, ql.Actual360())\n",
        "payer_swaption = ql.Swaption(payer_swap, exercise)\n",
        "\n",
        "# Volatility\n",
        "vol = 0.20\n",
        "black_vol = ql.ConstantSwaptionVolatility(settlement_date, calendar,\n",
        "                                          ql.ModifiedFollowing,\n",
        "                                          vol,\n",
        "                                          ql.Actual365Fixed())\n",
        "\n",
        "engine = ql.BlackSwaptionEngine(yield_curve,\n",
        "                                ql.SwaptionVolatilityStructureHandle(black_vol))\n",
        "\n",
        "# Pricing\n",
        "receiver_swaption.setPricingEngine(engine)\n",
        "payer_swaption.setPricingEngine(engine)\n",
        "\n",
        "print(f\"Receiver Swaption (SOFR, strike 2.0%): {receiver_swaption.NPV():,.2f}\")\n",
        "print(f\"Payer Swaption (SOFR, strike 3.0%): {payer_swaption.NPV():,.2f}\")\n",
        "print(f\"Swaption Collar (SOFR): {receiver_swaption.NPV() - payer_swaption.NPV():,.2f}\")\n"
      ],
      "metadata": {
        "colab": {
          "base_uri": "https://localhost:8080/"
        },
        "id": "7t3w9_h0hUJn",
        "outputId": "6cbd20bf-91b2-4a1b-a4b3-52c8cc3aec0a"
      },
      "execution_count": 12,
      "outputs": [
        {
          "output_type": "stream",
          "name": "stdout",
          "text": [
            "Receiver Swaption (SOFR, strike 2.0%): 1,104.65\n",
            "Payer Swaption (SOFR, strike 3.0%): 2,975.07\n",
            "Swaption Collar (SOFR): -1,870.42\n"
          ]
        }
      ]
    }
  ]
}